{
 "cells": [
  {
   "cell_type": "code",
   "execution_count": 2,
   "metadata": {},
   "outputs": [],
   "source": [
    "# classification model ex) classification positive or negative cancer\n",
    "# Logistic regression is one of the classification algorithms."
   ]
  },
  {
   "cell_type": "markdown",
   "metadata": {},
   "source": [
    "<img src=\"이미지/로지스틱회귀1.png\" align = 'left' width=\"600\" height=\"300\"><br>\n",
    "\n",
    "<br>\n",
    "<br>\n",
    "<br>\n",
    "<br>\n",
    "<br>\n",
    "<br>\n",
    "<br>\n",
    "<br>\n",
    "\n",
    "Now we will go to use several features to classify samples.\n",
    "z is the linear function that has several variables, weights, and an intercept,\n",
    "so the value of z will be from negative infinity to positive infinity.\n",
    "\n",
    "Z is the input of the sigmoid function and the output will be a.\n",
    "a will have the value from 0 to 1, which we can interpret as a probability.\n",
    "(ex, if a is bigger than 0.5, we can classify a sample as a case of positive cancer. \n",
    "     if a is smaller than 0.5, we can classify a sample as the case of negative cancer.)\n",
    "     "
   ]
  },
  {
   "cell_type": "markdown",
   "metadata": {},
   "source": [
    "The purpose of Logistic regression is to increase the ratio of corrected classified samples.<br>\n",
    "<img src=\"이미지/로지스틱회귀2.png\" align = 'left' width=\"600\" height=\"300\"><br>"
   ]
  },
  {
   "cell_type": "markdown",
   "metadata": {},
   "source": [
    "Like we did before in the squared error part, we will find a derivative of the Logistic loss function in terms of weight and intercept.\n",
    "And we will subtract the value of the derivative of the Logistic loss function from the old weight."
   ]
  },
  {
   "cell_type": "markdown",
   "metadata": {},
   "source": [
    "<img src=\"이미지/로지스틱회귀3.png\" align = 'left' width=\"600\" height=\"300\"><br>\n",
    "<img src=\"이미지/로지스틱회귀4.png\" align = 'left' width=\"600\" height=\"300\"><br>"
   ]
  }
 ],
 "metadata": {
  "kernelspec": {
   "display_name": "Python 3",
   "language": "python",
   "name": "python3"
  },
  "language_info": {
   "codemirror_mode": {
    "name": "ipython",
    "version": 3
   },
   "file_extension": ".py",
   "mimetype": "text/x-python",
   "name": "python",
   "nbconvert_exporter": "python",
   "pygments_lexer": "ipython3",
   "version": "3.7.4"
  }
 },
 "nbformat": 4,
 "nbformat_minor": 2
}
